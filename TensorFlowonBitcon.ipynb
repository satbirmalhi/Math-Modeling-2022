{
 "cells": [
  {
   "cell_type": "code",
   "execution_count": null,
   "id": "00c8dce4",
   "metadata": {},
   "outputs": [],
   "source": [
    "from sklearn.preprocessing import MinMaxScaler\n",
    "from tensorflow.keras.models import Sequential \n",
    "from tensorflow.keras.layers import Dense, Dropout, LSTM"
   ]
  },
  {
   "cell_type": "code",
   "execution_count": null,
   "id": "8ba3567e",
   "metadata": {},
   "outputs": [],
   "source": [
    "prediction = pd.DataFrame()\n",
    "for i in range(0, len(dfB)-3):\n",
    "    df = dfB[0:i+3]\n",
    "    df = pd.DataFrame(df)\n",
    "    scaler=MinMaxScaler(feature_range=(0,1))\n",
    "    scaled_data=scaler.fit_transform(df.values.reshape(-1,1))\n",
    "    prediction_days=1\n",
    "    x_train=[]\n",
    "    y_train=[]\n",
    "    \n",
    "    for x in range(prediction_days, len(scaled_data)):\n",
    "        x_train.append(scaled_data[x-prediction_days:x,0])\n",
    "        y_train.append(scaled_data[x,0])\n",
    "    \n",
    "    x_train, y_train=np.array(x_train),np.array(y_train)\n",
    "    x_train=np.reshape(x_train,(x_train.shape[0],x_train.shape[1],1))\n",
    "    model=Sequential()\n",
    "    model.add(LSTM(units=50,return_sequences=True, input_shape=(x_train.shape[1],1)))\n",
    "    model.add(Dropout(0.2))\n",
    "    model.add(LSTM(units=50,return_sequences=True))\n",
    "    model.add(Dropout(0.2))\n",
    "    model.add(LSTM(units=50))\n",
    "    model.add(Dropout(0.2))\n",
    "    model.add(Dense(units=1))\n",
    "    model.compile(optimizer='adam',loss='mean_squared_error')\n",
    "    model.fit(x_train,y_train,epochs=25,batch_size=32)\n",
    "    test_data = df[len(df)-prediction_days:len(df)]\n",
    "    model_inputs=df[len(df[\"Value\"])-len(test_data)-prediction_days:].values\n",
    "    model_inputs=model_inputs.reshape(-1,1)\n",
    "    model_inputs=scaler.transform(model_inputs)\n",
    "\n",
    "    x_test=[]\n",
    "    for x in range(prediction_days,len(model_inputs)):\n",
    "        x_test.append(model_inputs[x-prediction_days:x,0])\n",
    "        x_test=np.array(x_test)\n",
    "    x_test=np.reshape(x_test,(x_test.shape[0],x_test.shape[1],1))\n",
    "    predicted_prices=model.predict(x_test)\n",
    "    predicted_prices=scaler.inverse_transform(predicted_prices)\n",
    "    predictions = pd.DataFrame(predicted_prices)\n",
    "    predictions= pd.DataFrame(predictions)\n",
    "    prediction = prediction.append(predictions)\n"
   ]
  }
 ],
 "metadata": {
  "kernelspec": {
   "display_name": "Python 3 (ipykernel)",
   "language": "python",
   "name": "python3"
  },
  "language_info": {
   "codemirror_mode": {
    "name": "ipython",
    "version": 3
   },
   "file_extension": ".py",
   "mimetype": "text/x-python",
   "name": "python",
   "nbconvert_exporter": "python",
   "pygments_lexer": "ipython3",
   "version": "3.9.9"
  }
 },
 "nbformat": 4,
 "nbformat_minor": 5
}
